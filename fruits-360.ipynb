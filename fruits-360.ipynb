{
 "cells": [
  {
   "cell_type": "code",
   "execution_count": 1,
   "metadata": {},
   "outputs": [
    {
     "name": "stderr",
     "output_type": "stream",
     "text": [
      "Using TensorFlow backend.\n"
     ]
    }
   ],
   "source": [
    "#libraries\n",
    "from keras.models import Sequential\n",
    "from keras.layers import Conv2D, MaxPooling2D, Activation, Dropout, Flatten, Dense\n",
    "from keras.preprocessing.image import ImageDataGenerator, img_to_array, load_img \n",
    "\n",
    "import matplotlib.pyplot as plt\n",
    "from glob import glob"
   ]
  },
  {
   "cell_type": "code",
   "execution_count": 2,
   "metadata": {},
   "outputs": [],
   "source": [
    "train_path = \"fruits-360/Training/\"\n",
    "test_path = \"fruits-360/Test/\""
   ]
  },
  {
   "cell_type": "code",
   "execution_count": 3,
   "metadata": {},
   "outputs": [
    {
     "data": {
      "text/plain": [
       "(-0.5, 99.5, 99.5, -0.5)"
      ]
     },
     "execution_count": 3,
     "metadata": {},
     "output_type": "execute_result"
    },
    {
     "data": {
      "image/png": "[encoded data removed]",
      "text/plain": [
       "<Figure size 432x288 with 1 Axes>"
      ]
     },
     "metadata": {
      "needs_background": "light"
     },
     "output_type": "display_data"
    }
   ],
   "source": [
    "img = load_img(train_path + \"Apple Braeburn/0_100.jpg\")\n",
    "\n",
    "plt.imshow(img)\n",
    "plt.axis(\"off\")"
   ]
  },
  {
   "cell_type": "code",
   "execution_count": 4,
   "metadata": {},
   "outputs": [
    {
     "name": "stdout",
     "output_type": "stream",
     "text": [
      "(100, 100, 3)\n"
     ]
    }
   ],
   "source": [
    "x = img_to_array(img)\n",
    "\n",
    "print(x.shape) #x=100, y=100, RBG=3"
   ]
  },
  {
   "cell_type": "code",
   "execution_count": 5,
   "metadata": {
    "scrolled": true
   },
   "outputs": [
    {
     "data": {
      "text/plain": [
       "['fruits-360/Training\\\\Apple Braeburn',\n",
       " 'fruits-360/Training\\\\Apple Crimson Snow',\n",
       " 'fruits-360/Training\\\\Apple Golden 1',\n",
       " 'fruits-360/Training\\\\Apple Golden 2',\n",
       " 'fruits-360/Training\\\\Apple Golden 3',\n",
       " 'fruits-360/Training\\\\Apple Granny Smith',\n",
       " 'fruits-360/Training\\\\Apple Pink Lady',\n",
       " 'fruits-360/Training\\\\Apple Red 1',\n",
       " 'fruits-360/Training\\\\Apple Red 2',\n",
       " 'fruits-360/Training\\\\Apple Red 3',\n",
       " 'fruits-360/Training\\\\Apple Red Delicious',\n",
       " 'fruits-360/Training\\\\Apple Red Yellow 1',\n",
       " 'fruits-360/Training\\\\Apple Red Yellow 2',\n",
       " 'fruits-360/Training\\\\Apricot',\n",
       " 'fruits-360/Training\\\\Avocado',\n",
       " 'fruits-360/Training\\\\Avocado ripe',\n",
       " 'fruits-360/Training\\\\Banana',\n",
       " 'fruits-360/Training\\\\Banana Lady Finger',\n",
       " 'fruits-360/Training\\\\Banana Red',\n",
       " 'fruits-360/Training\\\\Cactus fruit',\n",
       " 'fruits-360/Training\\\\Cantaloupe 1',\n",
       " 'fruits-360/Training\\\\Cantaloupe 2',\n",
       " 'fruits-360/Training\\\\Carambula',\n",
       " 'fruits-360/Training\\\\Cherry 1',\n",
       " 'fruits-360/Training\\\\Cherry 2',\n",
       " 'fruits-360/Training\\\\Cherry Rainier',\n",
       " 'fruits-360/Training\\\\Cherry Wax Black',\n",
       " 'fruits-360/Training\\\\Cherry Wax Red',\n",
       " 'fruits-360/Training\\\\Cherry Wax Yellow',\n",
       " 'fruits-360/Training\\\\Chestnut',\n",
       " 'fruits-360/Training\\\\Clementine',\n",
       " 'fruits-360/Training\\\\Cocos',\n",
       " 'fruits-360/Training\\\\Dates',\n",
       " 'fruits-360/Training\\\\Granadilla',\n",
       " 'fruits-360/Training\\\\Grape Blue',\n",
       " 'fruits-360/Training\\\\Grape Pink',\n",
       " 'fruits-360/Training\\\\Grape White',\n",
       " 'fruits-360/Training\\\\Grape White 2',\n",
       " 'fruits-360/Training\\\\Grape White 3',\n",
       " 'fruits-360/Training\\\\Grape White 4',\n",
       " 'fruits-360/Training\\\\Grapefruit Pink',\n",
       " 'fruits-360/Training\\\\Grapefruit White',\n",
       " 'fruits-360/Training\\\\Guava',\n",
       " 'fruits-360/Training\\\\Hazelnut',\n",
       " 'fruits-360/Training\\\\Huckleberry',\n",
       " 'fruits-360/Training\\\\Kaki',\n",
       " 'fruits-360/Training\\\\Kiwi',\n",
       " 'fruits-360/Training\\\\Kohlrabi',\n",
       " 'fruits-360/Training\\\\Kumquats',\n",
       " 'fruits-360/Training\\\\Lemon',\n",
       " 'fruits-360/Training\\\\Lemon Meyer',\n",
       " 'fruits-360/Training\\\\Limes',\n",
       " 'fruits-360/Training\\\\Lychee',\n",
       " 'fruits-360/Training\\\\Mandarine',\n",
       " 'fruits-360/Training\\\\Mango',\n",
       " 'fruits-360/Training\\\\Mangostan',\n",
       " 'fruits-360/Training\\\\Maracuja',\n",
       " 'fruits-360/Training\\\\Melon Piel de Sapo',\n",
       " 'fruits-360/Training\\\\Mulberry',\n",
       " 'fruits-360/Training\\\\Nectarine',\n",
       " 'fruits-360/Training\\\\Orange',\n",
       " 'fruits-360/Training\\\\Papaya',\n",
       " 'fruits-360/Training\\\\Passion Fruit',\n",
       " 'fruits-360/Training\\\\Peach',\n",
       " 'fruits-360/Training\\\\Peach 2',\n",
       " 'fruits-360/Training\\\\Peach Flat',\n",
       " 'fruits-360/Training\\\\Pear',\n",
       " 'fruits-360/Training\\\\Pear Abate',\n",
       " 'fruits-360/Training\\\\Pear Kaiser',\n",
       " 'fruits-360/Training\\\\Pear Monster',\n",
       " 'fruits-360/Training\\\\Pear Red',\n",
       " 'fruits-360/Training\\\\Pear Williams',\n",
       " 'fruits-360/Training\\\\Pepino',\n",
       " 'fruits-360/Training\\\\Pepper Green',\n",
       " 'fruits-360/Training\\\\Pepper Red',\n",
       " 'fruits-360/Training\\\\Pepper Yellow',\n",
       " 'fruits-360/Training\\\\Physalis',\n",
       " 'fruits-360/Training\\\\Physalis with Husk',\n",
       " 'fruits-360/Training\\\\Pineapple',\n",
       " 'fruits-360/Training\\\\Pineapple Mini',\n",
       " 'fruits-360/Training\\\\Pitahaya Red',\n",
       " 'fruits-360/Training\\\\Plum',\n",
       " 'fruits-360/Training\\\\Plum 2',\n",
       " 'fruits-360/Training\\\\Plum 3',\n",
       " 'fruits-360/Training\\\\Pomegranate',\n",
       " 'fruits-360/Training\\\\Pomelo Sweetie',\n",
       " 'fruits-360/Training\\\\Quince',\n",
       " 'fruits-360/Training\\\\Rambutan',\n",
       " 'fruits-360/Training\\\\Raspberry',\n",
       " 'fruits-360/Training\\\\Redcurrant',\n",
       " 'fruits-360/Training\\\\Salak',\n",
       " 'fruits-360/Training\\\\Strawberry',\n",
       " 'fruits-360/Training\\\\Strawberry Wedge',\n",
       " 'fruits-360/Training\\\\Tamarillo',\n",
       " 'fruits-360/Training\\\\Tangelo',\n",
       " 'fruits-360/Training\\\\Tomato 1',\n",
       " 'fruits-360/Training\\\\Tomato 2',\n",
       " 'fruits-360/Training\\\\Tomato 3',\n",
       " 'fruits-360/Training\\\\Tomato 4',\n",
       " 'fruits-360/Training\\\\Tomato Cherry Red',\n",
       " 'fruits-360/Training\\\\Tomato Maroon',\n",
       " 'fruits-360/Training\\\\Tomato Yellow',\n",
       " 'fruits-360/Training\\\\Walnut']"
      ]
     },
     "execution_count": 5,
     "metadata": {},
     "output_type": "execute_result"
    }
   ],
   "source": [
    "className = glob(train_path + '/*')\n",
    "\n",
    "className"
   ]
  },
  {
   "cell_type": "code",
   "execution_count": 6,
   "metadata": {},
   "outputs": [
    {
     "name": "stdout",
     "output_type": "stream",
     "text": [
      "numberOfClass:  103\n"
     ]
    }
   ],
   "source": [
    "numberOfClass = len(className)\n",
    "\n",
    "print(\"numberOfClass: \",numberOfClass)"
   ]
  },
  {
   "cell_type": "markdown",
   "metadata": {},
   "source": [
    "## CNN Model"
   ]
  },
  {
   "cell_type": "code",
   "execution_count": 7,
   "metadata": {},
   "outputs": [
    {
     "name": "stdout",
     "output_type": "stream",
     "text": [
      "WARNING:tensorflow:From d:\\anaconda\\envs\\tensor\\lib\\site-packages\\tensorflow\\python\\framework\\op_def_library.py:263: colocate_with (from tensorflow.python.framework.ops) is deprecated and will be removed in a future version.\n",
      "Instructions for updating:\n",
      "Colocations handled automatically by placer.\n",
      "WARNING:tensorflow:From d:\\anaconda\\envs\\tensor\\lib\\site-packages\\keras\\backend\\tensorflow_backend.py:3445: calling dropout (from tensorflow.python.ops.nn_ops) with keep_prob is deprecated and will be removed in a future version.\n",
      "Instructions for updating:\n",
      "Please use `rate` instead of `keep_prob`. Rate should be set to `rate = 1 - keep_prob`.\n"
     ]
    }
   ],
   "source": [
    "model = Sequential()\n",
    "\n",
    "# feature extraction\n",
    "model.add(Conv2D(32,(3,3),input_shape=x.shape)) # Convolution Layer  -32=number of filter, (3,3)=size of filter\n",
    "model.add(Activation(\"relu\")) # Activation Function\n",
    "model.add(MaxPooling2D()) # Pooling Layer (default size: (2,2))\n",
    "\n",
    "model.add(Conv2D(32,(3,3)))\n",
    "model.add(Activation(\"relu\"))\n",
    "model.add(MaxPooling2D())\n",
    "\n",
    "model.add(Conv2D(64,(3,3)))\n",
    "model.add(Activation(\"relu\"))\n",
    "model.add(MaxPooling2D())\n",
    "\n",
    "#fully connected\n",
    "model.add(Flatten()) # Flatten\n",
    "model.add(Dense(1024))\n",
    "model.add(Activation(\"relu\"))\n",
    "model.add(Dropout(0.5)) # dropout\n",
    "model.add(Dense(numberOfClass)) #output layer\n",
    "model.add(Activation(\"softmax\")) # softmax function"
   ]
  },
  {
   "cell_type": "code",
   "execution_count": 8,
   "metadata": {},
   "outputs": [],
   "source": [
    "model.compile(loss = \"categorical_crossentropy\",\n",
    "             optimizer = \"rmsprop\",\n",
    "             metrics = [\"accuracy\"])"
   ]
  },
  {
   "cell_type": "code",
   "execution_count": 9,
   "metadata": {},
   "outputs": [],
   "source": [
    "batch_size = 32"
   ]
  },
  {
   "cell_type": "markdown",
   "metadata": {},
   "source": [
    "## Data Generation - Train - Test"
   ]
  },
  {
   "cell_type": "code",
   "execution_count": 10,
   "metadata": {},
   "outputs": [],
   "source": [
    "train_datagen = ImageDataGenerator(rescale = 1./255,\n",
    "                                   shear_range = 0.3, # it turns image\n",
    "                                   horizontal_flip = True, #horizontal_flip truns image frame to right or left\n",
    "                                   zoom_range = 0.3) # zoom in, zoom out\n",
    "\n",
    "\n",
    "test_datagen = ImageDataGenerator(rescale = 1./255)"
   ]
  },
  {
   "cell_type": "code",
   "execution_count": 11,
   "metadata": {},
   "outputs": [
    {
     "name": "stdout",
     "output_type": "stream",
     "text": [
      "Found 53177 images belonging to 103 classes.\n",
      "Found 17845 images belonging to 103 classes.\n"
     ]
    }
   ],
   "source": [
    "train_genetor = train_datagen.flow_from_directory(\n",
    "    train_path, \n",
    "    target_size=x.shape[:2],\n",
    "    batch_size = batch_size,\n",
    "    color_mode=\"rgb\",\n",
    "    class_mode=\"categorical\") \n",
    "\n",
    "\n",
    "test_genetor = test_datagen.flow_from_directory(\n",
    "    test_path, \n",
    "    target_size=x.shape[:2],\n",
    "    batch_size = batch_size,\n",
    "    color_mode=\"rgb\",\n",
    "    class_mode=\"categorical\")"
   ]
  },
  {
   "cell_type": "code",
   "execution_count": 12,
   "metadata": {
    "scrolled": true
   },
   "outputs": [
    {
     "name": "stdout",
     "output_type": "stream",
     "text": [
      "WARNING:tensorflow:From d:\\anaconda\\envs\\tensor\\lib\\site-packages\\tensorflow\\python\\ops\\math_ops.py:3066: to_int32 (from tensorflow.python.ops.math_ops) is deprecated and will be removed in a future version.\n",
      "Instructions for updating:\n",
      "Use tf.cast instead.\n",
      "Epoch 1/100\n",
      "50/50 [==============================] - 16s 330ms/step - loss: 4.3951 - acc: 0.0512 - val_loss: 3.5925 - val_acc: 0.1237\n",
      "Epoch 2/100\n",
      "50/50 [==============================] - 11s 219ms/step - loss: 3.3343 - acc: 0.1581 - val_loss: 2.3714 - val_acc: 0.3688\n",
      "Epoch 3/100\n",
      "50/50 [==============================] - 7s 136ms/step - loss: 2.6203 - acc: 0.2787 - val_loss: 1.8681 - val_acc: 0.4850\n",
      "Epoch 4/100\n",
      "50/50 [==============================] - 4s 83ms/step - loss: 2.0819 - acc: 0.3806 - val_loss: 1.4813 - val_acc: 0.5600\n",
      "Epoch 5/100\n",
      "50/50 [==============================] - 5s 92ms/step - loss: 1.7077 - acc: 0.4925 - val_loss: 1.2154 - val_acc: 0.6500\n",
      "Epoch 6/100\n",
      "50/50 [==============================] - 4s 85ms/step - loss: 1.4095 - acc: 0.5544 - val_loss: 1.2422 - val_acc: 0.6075\n",
      "Epoch 7/100\n",
      "50/50 [==============================] - 4s 83ms/step - loss: 1.2653 - acc: 0.6025 - val_loss: 0.9044 - val_acc: 0.7288\n",
      "Epoch 8/100\n",
      "50/50 [==============================] - 4s 83ms/step - loss: 1.0500 - acc: 0.6650 - val_loss: 0.7518 - val_acc: 0.7550\n",
      "Epoch 9/100\n",
      "50/50 [==============================] - 4s 88ms/step - loss: 0.9265 - acc: 0.7056 - val_loss: 0.6158 - val_acc: 0.8113\n",
      "Epoch 10/100\n",
      "50/50 [==============================] - 4s 83ms/step - loss: 0.8697 - acc: 0.7338 - val_loss: 0.5177 - val_acc: 0.8413\n",
      "Epoch 11/100\n",
      "50/50 [==============================] - 4s 83ms/step - loss: 0.7471 - acc: 0.7438 - val_loss: 0.5217 - val_acc: 0.8225\n",
      "Epoch 12/100\n",
      "50/50 [==============================] - 4s 83ms/step - loss: 0.7282 - acc: 0.7550 - val_loss: 0.3501 - val_acc: 0.9000\n",
      "Epoch 13/100\n",
      "50/50 [==============================] - 4s 82ms/step - loss: 0.6123 - acc: 0.7969 - val_loss: 0.3310 - val_acc: 0.8975\n",
      "Epoch 14/100\n",
      "50/50 [==============================] - 4s 89ms/step - loss: 0.6314 - acc: 0.8200 - val_loss: 0.3314 - val_acc: 0.8812\n",
      "Epoch 15/100\n",
      "50/50 [==============================] - 4s 82ms/step - loss: 0.5880 - acc: 0.8263 - val_loss: 0.2914 - val_acc: 0.9025\n",
      "Epoch 16/100\n",
      "50/50 [==============================] - 4s 83ms/step - loss: 0.4837 - acc: 0.8387 - val_loss: 0.5112 - val_acc: 0.8300\n",
      "Epoch 17/100\n",
      "50/50 [==============================] - 4s 83ms/step - loss: 0.4911 - acc: 0.8406 - val_loss: 0.3255 - val_acc: 0.8988\n",
      "Epoch 18/100\n",
      "50/50 [==============================] - 4s 83ms/step - loss: 0.4752 - acc: 0.8506 - val_loss: 0.2134 - val_acc: 0.9400\n",
      "Epoch 19/100\n",
      "50/50 [==============================] - 4s 86ms/step - loss: 0.4217 - acc: 0.8544 - val_loss: 0.2176 - val_acc: 0.9263\n",
      "Epoch 20/100\n",
      "50/50 [==============================] - 4s 83ms/step - loss: 0.4173 - acc: 0.8681 - val_loss: 0.2176 - val_acc: 0.9175\n",
      "Epoch 21/100\n",
      "50/50 [==============================] - 4s 84ms/step - loss: 0.3903 - acc: 0.8838 - val_loss: 0.1511 - val_acc: 0.9537\n",
      "Epoch 22/100\n",
      "50/50 [==============================] - 4s 88ms/step - loss: 0.3897 - acc: 0.8662 - val_loss: 0.1943 - val_acc: 0.9400\n",
      "Epoch 23/100\n",
      "50/50 [==============================] - 4s 83ms/step - loss: 0.3290 - acc: 0.8906 - val_loss: 0.2011 - val_acc: 0.9392\n",
      "Epoch 24/100\n",
      "50/50 [==============================] - 4s 83ms/step - loss: 0.3584 - acc: 0.8894 - val_loss: 0.1611 - val_acc: 0.9537\n",
      "Epoch 25/100\n",
      "50/50 [==============================] - 4s 84ms/step - loss: 0.3397 - acc: 0.8944 - val_loss: 0.1962 - val_acc: 0.9287\n",
      "Epoch 26/100\n",
      "50/50 [==============================] - 4s 84ms/step - loss: 0.3138 - acc: 0.8950 - val_loss: 0.2993 - val_acc: 0.9275\n",
      "Epoch 27/100\n",
      "50/50 [==============================] - 4s 90ms/step - loss: 0.2981 - acc: 0.9119 - val_loss: 0.1561 - val_acc: 0.9487\n",
      "Epoch 28/100\n",
      "50/50 [==============================] - 4s 84ms/step - loss: 0.2884 - acc: 0.9113 - val_loss: 0.2337 - val_acc: 0.9225\n",
      "Epoch 29/100\n",
      "50/50 [==============================] - 4s 82ms/step - loss: 0.2914 - acc: 0.9069 - val_loss: 0.2576 - val_acc: 0.9113\n",
      "Epoch 30/100\n",
      "50/50 [==============================] - 4s 85ms/step - loss: 0.3196 - acc: 0.9019 - val_loss: 0.0881 - val_acc: 0.9725\n",
      "Epoch 31/100\n",
      "50/50 [==============================] - 5s 99ms/step - loss: 0.2685 - acc: 0.9194 - val_loss: 0.1318 - val_acc: 0.9463\n",
      "Epoch 32/100\n",
      "50/50 [==============================] - 4s 83ms/step - loss: 0.2279 - acc: 0.9231 - val_loss: 0.1571 - val_acc: 0.9463\n",
      "Epoch 33/100\n",
      "50/50 [==============================] - 4s 84ms/step - loss: 0.3049 - acc: 0.9038 - val_loss: 0.1356 - val_acc: 0.9537\n",
      "Epoch 34/100\n",
      "50/50 [==============================] - 4s 87ms/step - loss: 0.2376 - acc: 0.9261 - val_loss: 0.1361 - val_acc: 0.9475\n",
      "Epoch 35/100\n",
      "50/50 [==============================] - 4s 88ms/step - loss: 0.2163 - acc: 0.9275 - val_loss: 0.1177 - val_acc: 0.9563\n",
      "Epoch 36/100\n",
      "50/50 [==============================] - 5s 98ms/step - loss: 0.2531 - acc: 0.9150 - val_loss: 0.2618 - val_acc: 0.9087\n",
      "Epoch 37/100\n",
      "50/50 [==============================] - 4s 84ms/step - loss: 0.2019 - acc: 0.9444 - val_loss: 0.1305 - val_acc: 0.9487\n",
      "Epoch 38/100\n",
      "50/50 [==============================] - 4s 85ms/step - loss: 0.2349 - acc: 0.9250 - val_loss: 0.1117 - val_acc: 0.9675\n",
      "Epoch 39/100\n",
      "50/50 [==============================] - 4s 85ms/step - loss: 0.2146 - acc: 0.9319 - val_loss: 0.1266 - val_acc: 0.9550\n",
      "Epoch 40/100\n",
      "50/50 [==============================] - 4s 85ms/step - loss: 0.2024 - acc: 0.9394 - val_loss: 0.1727 - val_acc: 0.9437\n",
      "Epoch 41/100\n",
      "50/50 [==============================] - 5s 92ms/step - loss: 0.2228 - acc: 0.9300 - val_loss: 0.2471 - val_acc: 0.9287\n",
      "Epoch 42/100\n",
      "50/50 [==============================] - 5s 90ms/step - loss: 0.1941 - acc: 0.9450 - val_loss: 0.2240 - val_acc: 0.9450\n",
      "Epoch 43/100\n",
      "50/50 [==============================] - 5s 92ms/step - loss: 0.1983 - acc: 0.9381 - val_loss: 0.1372 - val_acc: 0.9513\n",
      "Epoch 44/100\n",
      "50/50 [==============================] - 4s 83ms/step - loss: 0.1975 - acc: 0.9419 - val_loss: 0.2039 - val_acc: 0.9263\n",
      "Epoch 45/100\n",
      "50/50 [==============================] - 4s 85ms/step - loss: 0.1667 - acc: 0.9412 - val_loss: 0.1562 - val_acc: 0.9480\n",
      "Epoch 46/100\n",
      "50/50 [==============================] - 4s 83ms/step - loss: 0.1999 - acc: 0.9394 - val_loss: 0.2218 - val_acc: 0.9450\n",
      "Epoch 47/100\n",
      "50/50 [==============================] - 4s 84ms/step - loss: 0.1542 - acc: 0.9494 - val_loss: 0.1003 - val_acc: 0.9700\n",
      "Epoch 48/100\n",
      "50/50 [==============================] - 4s 85ms/step - loss: 0.2106 - acc: 0.9381 - val_loss: 0.1153 - val_acc: 0.9637\n",
      "Epoch 49/100\n",
      "50/50 [==============================] - 4s 84ms/step - loss: 0.1545 - acc: 0.9537 - val_loss: 0.2388 - val_acc: 0.9350\n",
      "Epoch 50/100\n",
      "50/50 [==============================] - 4s 84ms/step - loss: 0.1856 - acc: 0.9469 - val_loss: 0.1621 - val_acc: 0.9550\n",
      "Epoch 51/100\n",
      "50/50 [==============================] - 4s 83ms/step - loss: 0.1902 - acc: 0.9419 - val_loss: 0.0896 - val_acc: 0.9750\n",
      "Epoch 52/100\n",
      "50/50 [==============================] - 4s 83ms/step - loss: 0.1396 - acc: 0.9550 - val_loss: 0.0720 - val_acc: 0.9800\n",
      "Epoch 53/100\n",
      "50/50 [==============================] - 4s 84ms/step - loss: 0.1574 - acc: 0.9531 - val_loss: 0.1752 - val_acc: 0.9525\n",
      "Epoch 54/100\n",
      "50/50 [==============================] - 4s 84ms/step - loss: 0.1911 - acc: 0.9444 - val_loss: 0.1100 - val_acc: 0.9613\n",
      "Epoch 55/100\n",
      "50/50 [==============================] - 4s 83ms/step - loss: 0.1127 - acc: 0.9613 - val_loss: 0.1396 - val_acc: 0.9475\n",
      "Epoch 56/100\n",
      "50/50 [==============================] - 5s 91ms/step - loss: 0.1810 - acc: 0.9450 - val_loss: 0.1235 - val_acc: 0.9537\n",
      "Epoch 57/100\n",
      "50/50 [==============================] - 5s 90ms/step - loss: 0.1493 - acc: 0.9500 - val_loss: 0.2148 - val_acc: 0.9275\n",
      "Epoch 58/100\n",
      "50/50 [==============================] - 4s 87ms/step - loss: 0.1425 - acc: 0.9569 - val_loss: 0.0827 - val_acc: 0.9725\n",
      "Epoch 59/100\n",
      "50/50 [==============================] - 4s 85ms/step - loss: 0.1598 - acc: 0.9562 - val_loss: 0.2675 - val_acc: 0.9350\n",
      "Epoch 60/100\n",
      "50/50 [==============================] - 4s 85ms/step - loss: 0.1894 - acc: 0.9469 - val_loss: 0.1145 - val_acc: 0.9613\n"
     ]
    },
    {
     "name": "stdout",
     "output_type": "stream",
     "text": [
      "Epoch 61/100\n",
      "50/50 [==============================] - 5s 106ms/step - loss: 0.1212 - acc: 0.9619 - val_loss: 0.1656 - val_acc: 0.9475\n",
      "Epoch 62/100\n",
      "50/50 [==============================] - 4s 84ms/step - loss: 0.1676 - acc: 0.9575 - val_loss: 0.0529 - val_acc: 0.9825\n",
      "Epoch 63/100\n",
      "50/50 [==============================] - 4s 84ms/step - loss: 0.1184 - acc: 0.9694 - val_loss: 0.1118 - val_acc: 0.9600\n",
      "Epoch 64/100\n",
      "50/50 [==============================] - 4s 85ms/step - loss: 0.1701 - acc: 0.9556 - val_loss: 0.2180 - val_acc: 0.9437\n",
      "Epoch 65/100\n",
      "50/50 [==============================] - 4s 85ms/step - loss: 0.1175 - acc: 0.9650 - val_loss: 0.0834 - val_acc: 0.9750\n",
      "Epoch 66/100\n",
      "50/50 [==============================] - 4s 87ms/step - loss: 0.1225 - acc: 0.9675 - val_loss: 0.0825 - val_acc: 0.9775\n",
      "Epoch 67/100\n",
      "50/50 [==============================] - 4s 86ms/step - loss: 0.1396 - acc: 0.9606 - val_loss: 0.1822 - val_acc: 0.9455\n",
      "Epoch 68/100\n",
      "50/50 [==============================] - 4s 84ms/step - loss: 0.0913 - acc: 0.9694 - val_loss: 0.1930 - val_acc: 0.9587\n",
      "Epoch 69/100\n",
      "50/50 [==============================] - 4s 84ms/step - loss: 0.1679 - acc: 0.9537 - val_loss: 0.0806 - val_acc: 0.9825\n",
      "Epoch 70/100\n",
      "50/50 [==============================] - 4s 83ms/step - loss: 0.1338 - acc: 0.9600 - val_loss: 0.0886 - val_acc: 0.9738\n",
      "Epoch 71/100\n",
      "50/50 [==============================] - 4s 84ms/step - loss: 0.1353 - acc: 0.9675 - val_loss: 0.1385 - val_acc: 0.9613\n",
      "Epoch 72/100\n",
      "50/50 [==============================] - 4s 83ms/step - loss: 0.1697 - acc: 0.9537 - val_loss: 0.0958 - val_acc: 0.9700\n",
      "Epoch 73/100\n",
      "50/50 [==============================] - 4s 83ms/step - loss: 0.1098 - acc: 0.9700 - val_loss: 0.0587 - val_acc: 0.9812\n",
      "Epoch 74/100\n",
      "50/50 [==============================] - 4s 83ms/step - loss: 0.1232 - acc: 0.9594 - val_loss: 0.1117 - val_acc: 0.9613\n",
      "Epoch 75/100\n",
      "50/50 [==============================] - 4s 87ms/step - loss: 0.1302 - acc: 0.9581 - val_loss: 0.0992 - val_acc: 0.9637\n",
      "Epoch 76/100\n",
      "50/50 [==============================] - 4s 84ms/step - loss: 0.1143 - acc: 0.9694 - val_loss: 0.0951 - val_acc: 0.9650\n",
      "Epoch 77/100\n",
      "50/50 [==============================] - 4s 86ms/step - loss: 0.1112 - acc: 0.9656 - val_loss: 0.2790 - val_acc: 0.9375\n",
      "Epoch 78/100\n",
      "50/50 [==============================] - 4s 85ms/step - loss: 0.1363 - acc: 0.9625 - val_loss: 0.0559 - val_acc: 0.9812\n",
      "Epoch 79/100\n",
      "50/50 [==============================] - 4s 83ms/step - loss: 0.1467 - acc: 0.9544 - val_loss: 0.0892 - val_acc: 0.9788\n",
      "Epoch 80/100\n",
      "50/50 [==============================] - 4s 85ms/step - loss: 0.1397 - acc: 0.9663 - val_loss: 0.1875 - val_acc: 0.9463\n",
      "Epoch 81/100\n",
      "50/50 [==============================] - 4s 84ms/step - loss: 0.1066 - acc: 0.9706 - val_loss: 0.1668 - val_acc: 0.9600\n",
      "Epoch 82/100\n",
      "50/50 [==============================] - 4s 84ms/step - loss: 0.0981 - acc: 0.9706 - val_loss: 0.2638 - val_acc: 0.9425\n",
      "Epoch 83/100\n",
      "50/50 [==============================] - 4s 89ms/step - loss: 0.1522 - acc: 0.9594 - val_loss: 0.1714 - val_acc: 0.9663\n",
      "Epoch 84/100\n",
      "50/50 [==============================] - 4s 86ms/step - loss: 0.1501 - acc: 0.9625 - val_loss: 0.1392 - val_acc: 0.9637\n",
      "Epoch 85/100\n",
      "50/50 [==============================] - 4s 86ms/step - loss: 0.1256 - acc: 0.9644 - val_loss: 0.0992 - val_acc: 0.9738\n",
      "Epoch 86/100\n",
      "50/50 [==============================] - 4s 84ms/step - loss: 0.0899 - acc: 0.9688 - val_loss: 0.2205 - val_acc: 0.9463\n",
      "Epoch 87/100\n",
      "50/50 [==============================] - 4s 84ms/step - loss: 0.1290 - acc: 0.9656 - val_loss: 0.1011 - val_acc: 0.9637\n",
      "Epoch 88/100\n",
      "50/50 [==============================] - 4s 90ms/step - loss: 0.1067 - acc: 0.9675 - val_loss: 0.2209 - val_acc: 0.9550\n",
      "Epoch 89/100\n",
      "50/50 [==============================] - 4s 83ms/step - loss: 0.1384 - acc: 0.9619 - val_loss: 0.1365 - val_acc: 0.9625\n",
      "Epoch 90/100\n",
      "50/50 [==============================] - 4s 84ms/step - loss: 0.0748 - acc: 0.9762 - val_loss: 0.0466 - val_acc: 0.9886\n",
      "Epoch 91/100\n",
      "50/50 [==============================] - 4s 87ms/step - loss: 0.1440 - acc: 0.9637 - val_loss: 0.0550 - val_acc: 0.9788\n",
      "Epoch 92/100\n",
      "50/50 [==============================] - 4s 89ms/step - loss: 0.1189 - acc: 0.9719 - val_loss: 0.1493 - val_acc: 0.9625\n",
      "Epoch 93/100\n",
      "50/50 [==============================] - 4s 83ms/step - loss: 0.1128 - acc: 0.9675 - val_loss: 0.0518 - val_acc: 0.9825\n",
      "Epoch 94/100\n",
      "50/50 [==============================] - 4s 84ms/step - loss: 0.1344 - acc: 0.9613 - val_loss: 0.0951 - val_acc: 0.9712\n",
      "Epoch 95/100\n",
      "50/50 [==============================] - 4s 84ms/step - loss: 0.0887 - acc: 0.9731 - val_loss: 0.1454 - val_acc: 0.9550\n",
      "Epoch 96/100\n",
      "50/50 [==============================] - 4s 85ms/step - loss: 0.0894 - acc: 0.9756 - val_loss: 0.1909 - val_acc: 0.9613\n",
      "Epoch 97/100\n",
      "50/50 [==============================] - 4s 84ms/step - loss: 0.1369 - acc: 0.9669 - val_loss: 0.1768 - val_acc: 0.9600\n",
      "Epoch 98/100\n",
      "50/50 [==============================] - 4s 86ms/step - loss: 0.1071 - acc: 0.9731 - val_loss: 0.1070 - val_acc: 0.9675\n",
      "Epoch 99/100\n",
      "50/50 [==============================] - 4s 86ms/step - loss: 0.1312 - acc: 0.9706 - val_loss: 0.1864 - val_acc: 0.9575\n",
      "Epoch 100/100\n",
      "50/50 [==============================] - 4s 83ms/step - loss: 0.1315 - acc: 0.9725 - val_loss: 0.0787 - val_acc: 0.9825\n"
     ]
    }
   ],
   "source": [
    "hist = model.fit_generator(\n",
    "    generator = train_genetor,\n",
    "    steps_per_epoch=1600 // batch_size,\n",
    "    epochs=100,\n",
    "    validation_data = test_genetor, \n",
    "    validation_steps= 800//batch_size)"
   ]
  },
  {
   "cell_type": "markdown",
   "metadata": {},
   "source": [
    "### Model Save"
   ]
  },
  {
   "cell_type": "code",
   "execution_count": 13,
   "metadata": {},
   "outputs": [],
   "source": [
    "model.save_weights(\"cnn_fruit_weights.h5\")"
   ]
  },
  {
   "cell_type": "markdown",
   "metadata": {},
   "source": [
    "### Model Evaluation"
   ]
  },
  {
   "cell_type": "code",
   "execution_count": 14,
   "metadata": {},
   "outputs": [
    {
     "name": "stdout",
     "output_type": "stream",
     "text": [
      "dict_keys(['val_loss', 'val_acc', 'loss', 'acc'])\n"
     ]
    },
    {
     "data": {
      "image/png": "[encoded data removed]",
      "text/plain": [
       "<Figure size 432x288 with 1 Axes>"
      ]
     },
     "metadata": {
      "needs_background": "light"
     },
     "output_type": "display_data"
    },
    {
     "data": {
      "image/png": "[encoded data removed]",
      "text/plain": [
       "<Figure size 432x288 with 1 Axes>"
      ]
     },
     "metadata": {
      "needs_background": "light"
     },
     "output_type": "display_data"
    }
   ],
   "source": [
    "print(hist.history.keys())\n",
    "\n",
    "plt.plot(hist.history[\"loss\"], label = \"Train Loss\")\n",
    "plt.plot(hist.history[\"val_loss\"], label = \"Validation Loss\")\n",
    "plt.legend()\n",
    "plt.show()\n",
    "\n",
    "plt.plot(hist.history[\"acc\"], label = \"Train Accuracy\")\n",
    "plt.plot(hist.history[\"val_acc\"], label = \"Validation Accuracy\")\n",
    "plt.legend()\n",
    "plt.show()"
   ]
  },
  {
   "cell_type": "markdown",
   "metadata": {},
   "source": [
    "### Save History"
   ]
  },
  {
   "cell_type": "code",
   "execution_count": 15,
   "metadata": {},
   "outputs": [],
   "source": [
    "import json\n",
    "\n",
    "with open(\"cnn_fruit_hist.json\",\"w\") as f:\n",
    "    json.dump(hist.history,f)"
   ]
  },
  {
   "cell_type": "markdown",
   "metadata": {},
   "source": [
    "### Load History"
   ]
  },
  {
   "cell_type": "code",
   "execution_count": 16,
   "metadata": {},
   "outputs": [],
   "source": [
    "import codecs\n",
    "\n",
    "with codecs.open(\"cnn_fruit_hist.json\",\"r\",encoding=\"utf-8\") as f:\n",
    "    h = json.loads(f.read())"
   ]
  },
  {
   "cell_type": "code",
   "execution_count": 18,
   "metadata": {},
   "outputs": [
    {
     "data": {
      "image/png": "[encoded data removed]",
      "text/plain": [
       "<Figure size 432x288 with 1 Axes>"
      ]
     },
     "metadata": {
      "needs_background": "light"
     },
     "output_type": "display_data"
    },
    {
     "data": {
      "image/png": "[encoded data removed]",
      "text/plain": [
       "<Figure size 432x288 with 1 Axes>"
      ]
     },
     "metadata": {
      "needs_background": "light"
     },
     "output_type": "display_data"
    }
   ],
   "source": [
    "plt.plot(h[\"loss\"], label = \"Train Loss\")\n",
    "plt.plot(h[\"val_loss\"], label = \"Validation Loss\")\n",
    "plt.legend()\n",
    "plt.show()\n",
    "\n",
    "plt.plot(h[\"acc\"], label = \"Train Accuracy\")\n",
    "plt.plot(h[\"val_acc\"], label = \"Validation Accuracy\")\n",
    "plt.legend()\n",
    "plt.show()"
   ]
  },
  {
   "cell_type": "code",
   "execution_count": null,
   "metadata": {},
   "outputs": [],
   "source": []
  }
 ],
 "metadata": {
  "kernelspec": {
   "display_name": "Python 3",
   "language": "python",
   "name": "python3"
  },
  "language_info": {
   "codemirror_mode": {
    "name": "ipython",
    "version": 3
   },
   "file_extension": ".py",
   "mimetype": "text/x-python",
   "name": "python",
   "nbconvert_exporter": "python",
   "pygments_lexer": "ipython3",
   "version": "3.6.8"
  }
 },
 "nbformat": 4,
 "nbformat_minor": 2
}
